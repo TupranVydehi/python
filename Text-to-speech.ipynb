{
 "cells": [
  {
   "cell_type": "code",
   "execution_count": 10,
   "metadata": {},
   "outputs": [
    {
     "data": {
      "text/plain": [
       "0"
      ]
     },
     "execution_count": 10,
     "metadata": {},
     "output_type": "execute_result"
    }
   ],
   "source": [
    "from gtts import gTTS\n",
    "import os\n",
    "file = open(\"hack_trial.txt\",\"r\").read().replace(\"\\n\",\" \")\n",
    "language = 'en'\n",
    "speech = gTTS(text = str(file), lang = language, slow = False)\n",
    "speech.save(\"trial.mp3\")\n",
    "os.system(\"start trial.mp3\")"
   ]
  },
  {
   "cell_type": "code",
   "execution_count": null,
   "metadata": {},
   "outputs": [],
   "source": []
  }
 ],
 "metadata": {
  "kernelspec": {
   "display_name": "Python 3",
   "language": "python",
   "name": "python3"
  }
 },
 "nbformat": 4,
 "nbformat_minor": 2
}
